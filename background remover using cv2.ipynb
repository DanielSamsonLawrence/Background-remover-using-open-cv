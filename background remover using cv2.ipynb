{
 "cells": [
  {
   "cell_type": "code",
   "execution_count": 15,
   "id": "3ea413ea",
   "metadata": {},
   "outputs": [],
   "source": [
    "import cv2\n",
    "import numpy as np\n",
    "import tkinter as tk\n",
    "from tkinter import filedialog\n",
    "from PIL import Image,ImageTk\n",
    "\n"
   ]
  },
  {
   "cell_type": "markdown",
   "id": "c8a874e5",
   "metadata": {},
   "source": [
    "#first attempt for background \n",
    "def remove_background(input_path, output_path):\n",
    "\n",
    "    image = cv2.imread(input_path)\n",
    "        \n",
    "    gray = cv2.cvtColor(image, cv2.COLOR_BGR2GRAY)\n",
    "    \n",
    "    mask = cv2.threshold(gray,250,255,cv2.THRESH_BINARY_INV)\n",
    "    \n",
    "    kernal=np.ones((3,3),np.uint8)\n",
    "    \n",
    "    mask=cv2.morphologyEx(mask,cv2.MORPH_OPEN,kernal,iterations=2)\n",
    "    mask=cv2.morphologyEx(mask,cv2.MORPH_CLOSE,kernal,iterations=2)\n",
    "    \n",
    "    alpha=cv2.merge([mask,mask,mask])\n",
    "    \n",
    "    result=cv2.bitwise_and(image,alpha)\n",
    "    \n",
    "    cv2.imwrite(output_path,result)"
   ]
  },
  {
   "cell_type": "code",
   "execution_count": 16,
   "id": "2ee949c9",
   "metadata": {},
   "outputs": [],
   "source": [
    "def remove_background(input_path, output_path):\n",
    "    # Read the image\n",
    "    image = cv2.imread(input_path)\n",
    "    \n",
    "    # Convert to grayscale\n",
    "    gray = cv2.cvtColor(image, cv2.COLOR_BGR2GRAY)\n",
    "    \n",
    "    # Apply Gaussian blur to reduce noise\n",
    "    blurred = cv2.GaussianBlur(gray, (5, 5), 0)\n",
    "    \n",
    "    # Apply adaptive threshold\n",
    "    thresh = cv2.adaptiveThreshold(blurred, 10, cv2.ADAPTIVE_THRESH_GAUSSIAN_C, cv2.THRESH_BINARY_INV, 11, 2)\n",
    "    \n",
    "    # Create kernel for morphological operations\n",
    "    kernel = np.ones((3, 3), np.uint8)\n",
    "    \n",
    "    # Apply morphological operations\n",
    "    mask = cv2.morphologyEx(thresh, cv2.MORPH_OPEN, kernel, iterations=2)\n",
    "    mask = cv2.morphologyEx(mask, cv2.MORPH_CLOSE, kernel, iterations=2)\n",
    "    \n",
    "    # Invert mask\n",
    "    mask_inv = cv2.bitwise_not(mask)\n",
    "    \n",
    "    # Apply mask to the original image\n",
    "    result = cv2.bitwise_and(image, image, mask=mask_inv)\n",
    "    \n",
    "    # Save the result\n",
    "    cv2.imwrite(output_path, result)"
   ]
  },
  {
   "cell_type": "code",
   "execution_count": 17,
   "id": "c529afa2",
   "metadata": {},
   "outputs": [],
   "source": [
    "def upload_and_process():\n",
    "    input_path=filedialog.askopenfilename(filetypes=[(\"Image files\",\"*.jpg *.jpeg *.png\")])\n",
    "    if input_path:\n",
    "        output_path=filedialog.asksaveasfilename(defaultextension=\".png\",filetypes=[(\"PNG files\",\"*.png\")])\n",
    "        if output_path:\n",
    "            remove_background(input_path,output_path)\n",
    "            show_result(output_path)\n",
    "\n",
    "def show_result(image_path):\n",
    "    result_window=tk.Toplevel(root)\n",
    "    result_window.title(\"Result\")\n",
    "    \n",
    "    img=Image.open(image_path)\n",
    "    img.thumbnail((400,400))\n",
    "    photo=ImageTk.PhotoImage(img)\n",
    "    \n",
    "    label=tk.Label(result_window,image=photo)\n",
    "    label.image=photo\n",
    "    label.pack()\n",
    "    \n",
    "root=tk.Tk()\n",
    "root.title(\"Background Remover\")\n",
    "\n",
    "upload_button=tk.Button(root,text=\"Upload and process image\",command=upload_and_process)\n",
    "upload_button.pack(pady=20)\n",
    "\n",
    "root.mainloop()"
   ]
  },
  {
   "cell_type": "code",
   "execution_count": null,
   "id": "98f470b6",
   "metadata": {},
   "outputs": [],
   "source": []
  }
 ],
 "metadata": {
  "kernelspec": {
   "display_name": "Python 3 (ipykernel)",
   "language": "python",
   "name": "python3"
  },
  "language_info": {
   "codemirror_mode": {
    "name": "ipython",
    "version": 3
   },
   "file_extension": ".py",
   "mimetype": "text/x-python",
   "name": "python",
   "nbconvert_exporter": "python",
   "pygments_lexer": "ipython3",
   "version": "3.11.5"
  }
 },
 "nbformat": 4,
 "nbformat_minor": 5
}
